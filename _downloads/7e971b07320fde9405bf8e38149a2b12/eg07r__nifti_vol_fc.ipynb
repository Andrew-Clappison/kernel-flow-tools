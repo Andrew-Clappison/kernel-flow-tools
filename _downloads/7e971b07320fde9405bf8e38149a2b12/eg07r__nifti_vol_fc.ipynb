{
  "cells": [
    {
      "cell_type": "code",
      "execution_count": null,
      "metadata": {
        "collapsed": false
      },
      "outputs": [],
      "source": [
        "%matplotlib inline"
      ]
    },
    {
      "cell_type": "markdown",
      "metadata": {},
      "source": [
        "\n# Nifti volumes - functional connectivity analyses\n\nBlah blah\n\nblah\nblah\nblah\n\n\n## Thing\n\n### Thingywot\n\nBlah blah\n\n\n## Anotherthing\n\n\n### Whatevs\n\nStuff\nStuff\nStuff\n"
      ]
    },
    {
      "cell_type": "code",
      "execution_count": null,
      "metadata": {
        "collapsed": false
      },
      "outputs": [],
      "source": [
        "import numpy as np\nimport pandas as pd\nimport mne"
      ]
    },
    {
      "cell_type": "markdown",
      "metadata": {},
      "source": [
        "First we do a thing etc etc.\n\n"
      ]
    },
    {
      "cell_type": "code",
      "execution_count": null,
      "metadata": {
        "collapsed": false
      },
      "outputs": [],
      "source": [
        "pd.DataFrame(np.random.normal(size=(16, 100))).plot(kind='hist')"
      ]
    },
    {
      "cell_type": "markdown",
      "metadata": {},
      "source": [
        "<div class=\"alert alert-danger\"><h4>Warning</h4><p>athing a not etc\n             blah blah</p></div>\n\n"
      ]
    },
    {
      "cell_type": "code",
      "execution_count": null,
      "metadata": {
        "collapsed": false
      },
      "outputs": [],
      "source": [
        "thisvar  = ['hbo', 'hbr', 'hbo', 'hbr',\n            'hbo', 'hbr', 'hbo', 'hbr']"
      ]
    },
    {
      "cell_type": "markdown",
      "metadata": {},
      "source": [
        "More stuff etc blah\nblah blah\n\n"
      ]
    },
    {
      "cell_type": "code",
      "execution_count": null,
      "metadata": {
        "collapsed": false
      },
      "outputs": [],
      "source": [
        "montage = mne.channels.make_standard_montage('artinis-octamon')\n#raw.set_montage(montage)\n\n# View the position of optodes in 2D to confirm the positions are correct.\nprint('thing')#           ``something here`` to ``'eg'``.\n\n#\n# More stuff\n# More stuff\n#\n# .. note:: Things\n\n\"\"\"\n\n### seed coords from (Eggebrecht et al., 2014) ###\n\nseed_coord_dict = {'vis':(-19.5, -102, -3), 'aud':(-67.5, -27, 12), 'mot':(-67.5, -12, 27), 'DAN':(-58.5, -69, -6), 'FPC':(-52.5, 24, 33), 'DMN':(-43.5, 21, 51)}\nseed_coord_ser = pd.Series(seed_coord_dict)\n\n### making MNI mask ###\n\n# import nilearn\n# nilearn.__file__\n\navg152_f = '/usr/local/lib/python3.7/dist-packages/nilearn/datasets/data/avg152T1_brain.nii.gz'\navg152_img = nib.load(avg152_f)\navg152_dat = avg152_img.get_data()\navg152_mask_dat = (avg152_dat > 0).astype(float)\navg152_mask_img = nib.Nifti1Image(avg152_mask_dat, affine=avg152_img.affine)\n\n\nnii_fs = glob.glob(fromkcni_data_dir + '/*rec*hbo*.nii*')\nf = nii_fs[0]\nk = 'DMN'\nz_maps,z_maps_masked = fc_for_seeds(f,dothese=[k])#,clip_vols=[10,10])\nimg = z_maps[k]\nimg_thr,_ = threshold_stats_img(img,threshold=thr,cluster_threshold=50,alpha=0.05)\ndisp = plot_glass_brain(img_thr,plot_abs=False,colorbar=True);\ndisp.add_markers(marker_coords=[seed_coord_dict[k]], marker_color='g', marker_size=300)\n\n\"\"\";"
      ]
    }
  ],
  "metadata": {
    "kernelspec": {
      "display_name": "Python 3",
      "language": "python",
      "name": "python3"
    },
    "language_info": {
      "codemirror_mode": {
        "name": "ipython",
        "version": 3
      },
      "file_extension": ".py",
      "mimetype": "text/x-python",
      "name": "python",
      "nbconvert_exporter": "python",
      "pygments_lexer": "ipython3",
      "version": "3.8.12"
    }
  },
  "nbformat": 4,
  "nbformat_minor": 0
}
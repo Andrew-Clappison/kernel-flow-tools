{
  "cells": [
    {
      "cell_type": "code",
      "execution_count": null,
      "metadata": {
        "collapsed": false
      },
      "outputs": [],
      "source": [
        "%matplotlib inline"
      ]
    },
    {
      "cell_type": "markdown",
      "metadata": {},
      "source": [
        "\n# Nifti-derived surfaces - visualization\n\nBlah blah\n\nblah\nblah\nblah\n\n\n## Thing\n\n### Thingywot\n\nBlah blah\n\n\n## Anotherthing\n\n\n### Whatevs\n\nStuff\nStuff\nStuff\n"
      ]
    },
    {
      "cell_type": "code",
      "execution_count": null,
      "metadata": {
        "collapsed": false
      },
      "outputs": [],
      "source": [
        "import numpy as np\nimport pandas as pd\nimport mne"
      ]
    },
    {
      "cell_type": "markdown",
      "metadata": {},
      "source": [
        "First we do a thing etc etc.\n\n"
      ]
    },
    {
      "cell_type": "code",
      "execution_count": null,
      "metadata": {
        "collapsed": false
      },
      "outputs": [],
      "source": [
        "pd.DataFrame(np.random.normal(size=(16, 100))).plot(kind='hist')"
      ]
    },
    {
      "cell_type": "markdown",
      "metadata": {},
      "source": [
        "<div class=\"alert alert-danger\"><h4>Warning</h4><p>athing a not etc\n             blah blah</p></div>\n\n"
      ]
    },
    {
      "cell_type": "code",
      "execution_count": null,
      "metadata": {
        "collapsed": false
      },
      "outputs": [],
      "source": [
        "thisvar  = ['hbo', 'hbr', 'hbo', 'hbr',\n            'hbo', 'hbr', 'hbo', 'hbr']"
      ]
    },
    {
      "cell_type": "markdown",
      "metadata": {},
      "source": [
        "More stuff etc blah\nblah blah\n\n"
      ]
    },
    {
      "cell_type": "code",
      "execution_count": null,
      "metadata": {
        "collapsed": false
      },
      "outputs": [],
      "source": [
        "montage = mne.channels.make_standard_montage('artinis-octamon')\n#raw.set_montage(montage)\n\n# View the position of optodes in 2D to confirm the positions are correct.\nprint('thing')#           ``something here`` to ``'eg'``.\n\n#\n# More stuff\n# More stuff\n#\n# .. note:: Things"
      ]
    },
    {
      "cell_type": "markdown",
      "metadata": {},
      "source": [
        "#### Applying standard sensor locations to imported data\n\nHaving information about optode locations may assist in your analysis.\nBeyond the general benefits this provides (e.g. creating regions of interest,\netc), this is may be particularly important for fNIRS as information about\nthe optode locations is required to convert the optical density data in to an\nestimate of the haemoglobin concentrations.\nMNE-Python provides methods to load standard sensor configurations\n(montages) from some vendors, and this is demonstrated below.\nSome handy tutorials for understanding sensor locations, coordinate systems,\nand how to store and view this information in MNE-Python are:\n`tut-sensor-locations`, `plot_source_alignment`, and\n`ex-eeg-on-scalp`.\n\nBelow is an example of how to load the optode positions for an Artinis\nOctaMon device.\n\n<div class=\"alert alert-info\"><h4>Note</h4><p>It is also possible to create a custom montage from a file for\n          fNIRS with :func:`mne.channels.read_custom_montage` by setting\n          ``coord_frame`` to ``'mri'``.</p></div>\n\n"
      ]
    },
    {
      "cell_type": "code",
      "execution_count": null,
      "metadata": {
        "collapsed": false
      },
      "outputs": [],
      "source": [
        "print(5)\n\n# View the position of optodes in 2D to confirm the positions are correct.\nprint(6)"
      ]
    }
  ],
  "metadata": {
    "kernelspec": {
      "display_name": "Python 3",
      "language": "python",
      "name": "python3"
    },
    "language_info": {
      "codemirror_mode": {
        "name": "ipython",
        "version": 3
      },
      "file_extension": ".py",
      "mimetype": "text/x-python",
      "name": "python",
      "nbconvert_exporter": "python",
      "pygments_lexer": "ipython3",
      "version": "3.8.12"
    }
  },
  "nbformat": 4,
  "nbformat_minor": 0
}
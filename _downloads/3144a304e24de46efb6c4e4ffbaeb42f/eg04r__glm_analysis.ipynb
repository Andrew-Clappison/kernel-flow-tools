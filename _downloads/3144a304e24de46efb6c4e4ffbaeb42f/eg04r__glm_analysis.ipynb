{
  "cells": [
    {
      "cell_type": "code",
      "execution_count": null,
      "metadata": {
        "collapsed": false
      },
      "outputs": [],
      "source": [
        "%matplotlib inline"
      ]
    },
    {
      "cell_type": "markdown",
      "metadata": {},
      "source": [
        "\n# Blah blah\n\nBlah blah\n\nblah\nblah\nblah\n\n\n## Thing\n\n### Thingywot\n\nBlah blah\n\n\n## Anotherthing\n\n\n### Whatevs\n\nStuff\nStuff\nStuff\n"
      ]
    },
    {
      "cell_type": "code",
      "execution_count": null,
      "metadata": {
        "collapsed": false
      },
      "outputs": [],
      "source": [
        "import numpy as np\nimport pandas as pd\nimport mne"
      ]
    },
    {
      "cell_type": "markdown",
      "metadata": {},
      "source": [
        "First we do a thing etc etc.\n\n"
      ]
    },
    {
      "cell_type": "code",
      "execution_count": null,
      "metadata": {
        "collapsed": false
      },
      "outputs": [],
      "source": [
        "pd.DataFrame(np.random.normal(size=(16, 100))).plot(kind='hist')"
      ]
    },
    {
      "cell_type": "markdown",
      "metadata": {},
      "source": [
        "<div class=\"alert alert-danger\"><h4>Warning</h4><p>athing a not etc\n             blah blah</p></div>\n\n"
      ]
    },
    {
      "cell_type": "code",
      "execution_count": null,
      "metadata": {
        "collapsed": false
      },
      "outputs": [],
      "source": [
        "thisvar  = ['hbo', 'hbr', 'hbo', 'hbr',\n            'hbo', 'hbr', 'hbo', 'hbr']"
      ]
    },
    {
      "cell_type": "markdown",
      "metadata": {},
      "source": [
        "More stuff etc blah\n blah blah\nmontage = mne.channels.make_standard_montage('artinis-octamon')\nraw.set_montage(montage)\n\n"
      ]
    },
    {
      "cell_type": "code",
      "execution_count": null,
      "metadata": {
        "collapsed": false
      },
      "outputs": [],
      "source": [
        "# View the position of optodes in 2D to confirm the positions are correct.\nprint('thing')#           ``something here`` to ``'eg'``.\n\n#\n# More stuff\n# More stuff\n#\n# .. note:: Things\n\n#f = ''\n#res = run_pipeline(f,subselect_with='notnan')"
      ]
    }
  ],
  "metadata": {
    "kernelspec": {
      "display_name": "Python 3",
      "language": "python",
      "name": "python3"
    },
    "language_info": {
      "codemirror_mode": {
        "name": "ipython",
        "version": 3
      },
      "file_extension": ".py",
      "mimetype": "text/x-python",
      "name": "python",
      "nbconvert_exporter": "python",
      "pygments_lexer": "ipython3",
      "version": "3.8.12"
    }
  },
  "nbformat": 4,
  "nbformat_minor": 0
}